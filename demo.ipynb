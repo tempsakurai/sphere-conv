{
 "cells": [
  {
   "cell_type": "code",
   "execution_count": 1,
   "metadata": {},
   "outputs": [],
   "source": [
    "import os\n",
    "import torch\n",
    "from torch import nn\n",
    "import torch.nn.functional as F\n",
    "import numpy as np\n",
    "import config\n",
    "from data import OmniMNIST\n",
    "from  main import train, test\n",
    "from model import SphereCNN, CNN"
   ]
  },
  {
   "cell_type": "code",
   "execution_count": 2,
   "metadata": {},
   "outputs": [],
   "source": [
    "np.random.seed(23)"
   ]
  },
  {
   "cell_type": "code",
   "execution_count": 3,
   "metadata": {},
   "outputs": [],
   "source": [
    "import importlib\n",
    "importlib.reload(config)\n",
    "opt = config.Config()\n",
    "os.environ[\"CUDA_VISIBLE_DEVICES\"] = opt.CUDA_VISIBLE_DEVICES"
   ]
  },
  {
   "cell_type": "code",
   "execution_count": 4,
   "metadata": {},
   "outputs": [],
   "source": [
    "train_dataset = OmniMNIST(fov=90, h_rotate=True, v_rotate=True, train=True)\n",
    "test_dataset = OmniMNIST(fov=90, h_rotate=True, v_rotate=True, train=False, fix_aug=True)"
   ]
  },
  {
   "cell_type": "code",
   "execution_count": 5,
   "metadata": {},
   "outputs": [],
   "source": [
    "train_loader = torch.utils.data.DataLoader(train_dataset, batch_size=opt.batch_size, shuffle=True)\n",
    "test_loader = torch.utils.data.DataLoader(test_dataset, batch_size=opt.test_batch_size, shuffle=False)"
   ]
  },
  {
   "cell_type": "code",
   "execution_count": 6,
   "metadata": {},
   "outputs": [],
   "source": [
    "device = torch.device('cuda' if opt.use_gpu else 'cpu')"
   ]
  },
  {
   "cell_type": "code",
   "execution_count": 7,
   "metadata": {},
   "outputs": [],
   "source": [
    "# Train\n",
    "sphere_model = SphereCNN().to(device)\n",
    "model = CNN().to(device)\n",
    "if opt.optimizer == 'adam':\n",
    "    sphere_optimizer = torch.optim.Adam(sphere_model.parameters(), lr=opt.lr)\n",
    "    optimizer = torch.optim.Adam(model.parameters(), lr=opt.lr)\n",
    "elif opt.optimizer == 'sgd':\n",
    "    sphere_optimizer = torch.optim.SGD(sphere_model.parameters(), lr=opt.lr, momentum=opt.momentum)\n",
    "    optimizer = torch.optim.SGD(model.parameters(), lr=opt.lr, momentum=opt.momentum)"
   ]
  },
  {
   "cell_type": "code",
   "execution_count": null,
   "metadata": {},
   "outputs": [],
   "source": [
    "for epoch in range(1, opt.epochs + 1):\n",
    "    print('{} Sphere CNN {}'.format('='*10, '='*10))\n",
    "    train(opt, sphere_model, device, train_loader, sphere_optimizer, epoch)\n",
    "    test(opt, sphere_model, device, test_loader, epoch)\n",
    "    torch.save(sphere_model.state_dict(), 'sphere_cnn.pkl')\n",
    "\n",
    "    print('{} Conventional CNN {}'.format('='*10, '='*10))\n",
    "    train(opt, model, device, train_loader, optimizer, epoch)\n",
    "    test(opt, model, device, test_loader, epoch)\n",
    "    torch.save(model.state_dict(), 'cnn.pkl')"
   ]
  }
 ],
 "metadata": {
  "kernelspec": {
   "display_name": "Python 3",
   "language": "python",
   "name": "python3"
  },
  "language_info": {
   "codemirror_mode": {
    "name": "ipython",
    "version": 3
   },
   "file_extension": ".py",
   "mimetype": "text/x-python",
   "name": "python",
   "nbconvert_exporter": "python",
   "pygments_lexer": "ipython3",
   "version": "3.7.6"
  }
 },
 "nbformat": 4,
 "nbformat_minor": 4
}
